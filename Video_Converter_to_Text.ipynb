{
  "cells": [
    {
      "cell_type": "code",
      "execution_count": null,
      "metadata": {
        "colab": {
          "base_uri": "https://localhost:8080/"
        },
        "id": "n2VZ7KX7gK2q",
        "outputId": "7574636c-89e0-46ba-a397-a87a137ca842"
      },
      "outputs": [
        {
          "name": "stdout",
          "output_type": "stream",
          "text": [
            "Requirement already satisfied: moviepy in /usr/local/lib/python3.10/dist-packages (1.0.3)\n",
            "Requirement already satisfied: pydub in /usr/local/lib/python3.10/dist-packages (0.25.1)\n",
            "Requirement already satisfied: decorator<5.0,>=4.0.2 in /usr/local/lib/python3.10/dist-packages (from moviepy) (4.4.2)\n",
            "Requirement already satisfied: tqdm<5.0,>=4.11.2 in /usr/local/lib/python3.10/dist-packages (from moviepy) (4.66.1)\n",
            "Requirement already satisfied: requests<3.0,>=2.8.1 in /usr/local/lib/python3.10/dist-packages (from moviepy) (2.31.0)\n",
            "Requirement already satisfied: proglog<=1.0.0 in /usr/local/lib/python3.10/dist-packages (from moviepy) (0.1.10)\n",
            "Requirement already satisfied: numpy>=1.17.3 in /usr/local/lib/python3.10/dist-packages (from moviepy) (1.23.5)\n",
            "Requirement already satisfied: imageio<3.0,>=2.5 in /usr/local/lib/python3.10/dist-packages (from moviepy) (2.31.6)\n",
            "Requirement already satisfied: imageio-ffmpeg>=0.2.0 in /usr/local/lib/python3.10/dist-packages (from moviepy) (0.4.9)\n",
            "Requirement already satisfied: pillow<10.1.0,>=8.3.2 in /usr/local/lib/python3.10/dist-packages (from imageio<3.0,>=2.5->moviepy) (9.4.0)\n",
            "Requirement already satisfied: setuptools in /usr/local/lib/python3.10/dist-packages (from imageio-ffmpeg>=0.2.0->moviepy) (67.7.2)\n",
            "Requirement already satisfied: charset-normalizer<4,>=2 in /usr/local/lib/python3.10/dist-packages (from requests<3.0,>=2.8.1->moviepy) (3.3.2)\n",
            "Requirement already satisfied: idna<4,>=2.5 in /usr/local/lib/python3.10/dist-packages (from requests<3.0,>=2.8.1->moviepy) (3.4)\n",
            "Requirement already satisfied: urllib3<3,>=1.21.1 in /usr/local/lib/python3.10/dist-packages (from requests<3.0,>=2.8.1->moviepy) (2.0.7)\n",
            "Requirement already satisfied: certifi>=2017.4.17 in /usr/local/lib/python3.10/dist-packages (from requests<3.0,>=2.8.1->moviepy) (2023.7.22)\n"
          ]
        }
      ],
      "source": [
        "pip install moviepy pydub"
      ]
    },
    {
      "cell_type": "code",
      "execution_count": null,
      "metadata": {
        "colab": {
          "base_uri": "https://localhost:8080/"
        },
        "id": "QiZONTd3hIsg",
        "outputId": "6e9017f6-31b7-4ce3-ae23-593e39a6bb28"
      },
      "outputs": [
        {
          "name": "stdout",
          "output_type": "stream",
          "text": [
            "Requirement already satisfied: SpeechRecognition in /usr/local/lib/python3.10/dist-packages (3.10.0)\n",
            "Requirement already satisfied: requests>=2.26.0 in /usr/local/lib/python3.10/dist-packages (from SpeechRecognition) (2.31.0)\n",
            "Requirement already satisfied: charset-normalizer<4,>=2 in /usr/local/lib/python3.10/dist-packages (from requests>=2.26.0->SpeechRecognition) (3.3.2)\n",
            "Requirement already satisfied: idna<4,>=2.5 in /usr/local/lib/python3.10/dist-packages (from requests>=2.26.0->SpeechRecognition) (3.4)\n",
            "Requirement already satisfied: urllib3<3,>=1.21.1 in /usr/local/lib/python3.10/dist-packages (from requests>=2.26.0->SpeechRecognition) (2.0.7)\n",
            "Requirement already satisfied: certifi>=2017.4.17 in /usr/local/lib/python3.10/dist-packages (from requests>=2.26.0->SpeechRecognition) (2023.7.22)\n"
          ]
        }
      ],
      "source": [
        "pip install SpeechRecognition"
      ]
    },
    {
      "cell_type": "code",
      "execution_count": null,
      "metadata": {
        "colab": {
          "base_uri": "https://localhost:8080/"
        },
        "id": "A4avbXush4UQ",
        "outputId": "48d6cba6-bb2b-49d1-ff41-9258bc430def"
      },
      "outputs": [
        {
          "name": "stdout",
          "output_type": "stream",
          "text": [
            "Requirement already satisfied: python-docx in /usr/local/lib/python3.10/dist-packages (1.1.0)\n",
            "Requirement already satisfied: lxml>=3.1.0 in /usr/local/lib/python3.10/dist-packages (from python-docx) (4.9.3)\n",
            "Requirement already satisfied: typing-extensions in /usr/local/lib/python3.10/dist-packages (from python-docx) (4.5.0)\n"
          ]
        }
      ],
      "source": [
        "pip install python-docx"
      ]
    },
    {
      "cell_type": "code",
      "execution_count": null,
      "metadata": {
        "colab": {
          "base_uri": "https://localhost:8080/"
        },
        "id": "iwDFzF0GtfFz",
        "outputId": "d08ad0b9-f365-438c-d710-8c097e1225a2"
      },
      "outputs": [
        {
          "name": "stdout",
          "output_type": "stream",
          "text": [
            "Requirement already satisfied: pocketsphinx in /usr/local/lib/python3.10/dist-packages (5.0.2)\n",
            "Requirement already satisfied: sounddevice in /usr/local/lib/python3.10/dist-packages (from pocketsphinx) (0.4.6)\n",
            "Requirement already satisfied: CFFI>=1.0 in /usr/local/lib/python3.10/dist-packages (from sounddevice->pocketsphinx) (1.16.0)\n",
            "Requirement already satisfied: pycparser in /usr/local/lib/python3.10/dist-packages (from CFFI>=1.0->sounddevice->pocketsphinx) (2.21)\n"
          ]
        }
      ],
      "source": [
        "pip install pocketsphinx"
      ]
    },
    {
      "cell_type": "code",
      "execution_count": null,
      "metadata": {
        "colab": {
          "base_uri": "https://localhost:8080/"
        },
        "id": "kLR4csP6FoKQ",
        "outputId": "e2188f92-8cbe-44af-c261-8da2ed077dca"
      },
      "outputs": [
        {
          "name": "stdout",
          "output_type": "stream",
          "text": [
            "Collecting pyaudio\n",
            "  Downloading PyAudio-0.2.14.tar.gz (47 kB)\n",
            "\u001b[?25l     \u001b[90m━━━━━━━━━━━━━━━━━━━━━━━━━━━━━━━━━━━━━━━━\u001b[0m \u001b[32m0.0/47.1 kB\u001b[0m \u001b[31m?\u001b[0m eta \u001b[36m-:--:--\u001b[0m\r\u001b[2K     \u001b[90m━━━━━━━━━━━━━━━━━━━━━━━━━━━━━━━━━━━━━━━━\u001b[0m \u001b[32m47.1/47.1 kB\u001b[0m \u001b[31m1.9 MB/s\u001b[0m eta \u001b[36m0:00:00\u001b[0m\n",
            "\u001b[?25h  Installing build dependencies ... \u001b[?25l\u001b[?25hdone\n",
            "  Getting requirements to build wheel ... \u001b[?25l\u001b[?25hdone\n",
            "  Preparing metadata (pyproject.toml) ... \u001b[?25l\u001b[?25hdone\n",
            "Building wheels for collected packages: pyaudio\n",
            "  \u001b[1;31merror\u001b[0m: \u001b[1msubprocess-exited-with-error\u001b[0m\n",
            "  \n",
            "  \u001b[31m×\u001b[0m \u001b[32mBuilding wheel for pyaudio \u001b[0m\u001b[1;32m(\u001b[0m\u001b[32mpyproject.toml\u001b[0m\u001b[1;32m)\u001b[0m did not run successfully.\n",
            "  \u001b[31m│\u001b[0m exit code: \u001b[1;36m1\u001b[0m\n",
            "  \u001b[31m╰─>\u001b[0m See above for output.\n",
            "  \n",
            "  \u001b[1;35mnote\u001b[0m: This error originates from a subprocess, and is likely not a problem with pip.\n",
            "  Building wheel for pyaudio (pyproject.toml) ... \u001b[?25l\u001b[?25herror\n",
            "\u001b[31m  ERROR: Failed building wheel for pyaudio\u001b[0m\u001b[31m\n",
            "\u001b[0mFailed to build pyaudio\n",
            "\u001b[31mERROR: Could not build wheels for pyaudio, which is required to install pyproject.toml-based projects\u001b[0m\u001b[31m\n",
            "\u001b[0m"
          ]
        }
      ],
      "source": [
        "pip install pyaudio"
      ]
    },
    {
      "cell_type": "code",
      "execution_count": null,
      "metadata": {
        "id": "h3W0gUjWg8me"
      },
      "outputs": [],
      "source": [
        "from moviepy.editor import *\n",
        "from pydub import AudioSegment\n",
        "from pydub.playback import play\n",
        "import speech_recognition as sr"
      ]
    },
    {
      "cell_type": "code",
      "execution_count": null,
      "metadata": {
        "colab": {
          "background_save": true,
          "base_uri": "https://localhost:8080/"
        },
        "id": "YeULxFhlgMhu",
        "outputId": "ad27d765-ff86-4af7-9e45-befae9d01e0e"
      },
      "outputs": [
        {
          "name": "stdout",
          "output_type": "stream",
          "text": [
            "MoviePy - Writing audio in temp_audio.wav\n"
          ]
        },
        {
          "name": "stderr",
          "output_type": "stream",
          "text": [
            ""
          ]
        },
        {
          "name": "stdout",
          "output_type": "stream",
          "text": [
            "MoviePy - Done.\n",
            "Transcription:\n",
            "all you know what can be kind of gps advertising the fact that whenever you wanna see outside every line of sight to buy that you know i think i think here is that i think what that minimize i've got to hide even pay more to this barry allen fact it's strength how one of the things are possible that this body of the fire ferrets that is the dynamics and you pick up on the fact that even i mean it disagree in a vast discarding the multitude of that sometimes requires us to pretend satin things are happening on the time you know that conscious thought that i am pretend that that is none can take friction the same as you really took off yet said his vision eischen our dynamic on many many things going on in a mountain or that wants the what's the cost the essentials of fluid dynamics does decent attendants howling for one thing when you consider that the synar exxon has to be in passable meaning that bank and sixties when it's hands off again to see interference might have the keys and and have nine viscosity economy had viscosity the full when the future is easily i would have me say that has known viscosity flynn is the definition tonight honey hyun viscosity and was like kathy friction thousand meeting on jack's this conflict has to complicate things in raising fears which is my weekends he generally pretend that if you had when studying didn't have enough to have fun with it which is a thumbs up or these hypothetical this is not high in unannounced and this time now as a pothole free trade said that one and one aborigine of estates can effect some of the properties of the woods is that if it passes through than one hour inside the pipe can hack to the white decide to one that went haynes is the massive was his meetings year and a given area of the height of the tiny difficult but not fly right as always ends with a everywhere in the pie that's just the case as to what the fed's rate hike that 'cause i don't want to not less than that high teens and one half pipe has say can you grab was reading through every second the rest of the pipe also has to happen to a car was in the theater every second this fact that i'm not fair way to one point to the park will be equal to mass vibrates at any other point is called the equation of continuity and they didn't have enough about the relationship to the velocity of hits and cossacks know harriet the pipe is fun for him that's a urine and then the votes department of hypothetical city anytime someone off my way to hide that's what it is their interests at some point in your arms around height system he did and and half this carrington that possum pie at any given night will need to narrow the most infamous t. any carrier the cross section of that satisfaction of hide illicit describe cannot fly right you'll have to use what we know about density perry and velocity to whack house in algebra magic fact that the cossacks and at that point that high from anastasio united and of the few remaining hospice cross sectional area at the time is clinton's density heinz's fighting men one of the few remaining pastas point is simply the carrier the height of this class action time to distance the theory to me and from what i said some of the six nations more fun and the distance of your income is defined by the changing times is he quit the fuse has he said i can now all to get back into different fashion of the equation continue at any given point in the high intensity of the future uncertain times the area of high times this year it's just as he will be the same as that any of appointment high as a team with an income possible theory of the densities gangs in the same at the point that height and you might say really need to figure out that at any point in a high the area that pi times if it's just he been sign asked that penny on the plane is the same things that fool the matter is that right is assigned as the point that height that is that in our relationship and has amassed a time you're putting in times of harriette and velocity an annual bonus of what's to come in and today is important you tonight but he's a weapon hike is narrow and if you had to have to fly thoughts that in order to compensate a hit them with a few as angry thoughts she has matched prussia when it's flattering will send a sure why tonight is he's acting more force than one f answer why they're a cunning but that's not what does this mean when they talk about the procession of height and weight who came out the pressure on the walls of the pie this means it is the fear if guys can hold her strip as mankind itself is and as the new nice principle if they said hi half is the feed his throat height than the oppression of high schools and vice facts and the navy or fate had not with what we now know as the news equation in mind that kind of intimidate him fast but when you bite the town is actually just the way of combining a bunch of things you've already now and the navy bases equation on the concept of the consummation of an inch deep as if it tastes are high in one day newborns and agent it means that no matter when food is an height if you take all forms of energy that the fury has about points not not that article the same number as any of the points that i can answer on the soundness of the tapestry forms of energy in florida represented in danny's equation asked this process times funny not to send a black man indeed we did find any jeans get seem to do whack when i'm dead highest prussia and means avoiding of fear and allen strained was doing last eight percent time fighting must be a former managing the fast having been in these equations hank fannon eighteen divide it by body which just means pasha next at fan fair it's also has kinetic energy on the south coast guard petty kenji the fact that a secret hofmann object mass heinz's benefits he's glad to get in any divided the form of energy by body to get high off the fifth and steed heinz's announced he's glad that's cool the kinetic energy density and the second half of the nice occasion find any affluent family it also has the potential energy that comes from gravity and said if all of the potential energy from gravity ziegler to an object mass times twenty times as high find any divided back by volume he got ten feet high and forty times heintz the potential as she density and fat hand of his equation want to fight weeks has finally well it comes to feel it's it's just easier to talk bout face and hands intensity than it is to go back to ask for money into his equation piece by piece you can see that money was really just painting conservation of energy into special form that would be useful for few it's not as lucky as special case of the cheese equation dentist heart had a favorite her attacking other news this consummation of an engine to find in austere thoroughfares was moved out in a container and instead of asking if it's coming after this out at the same as the velocity of a single job pacific air force one height of the status of the few didn't contain animal as the passion of passion if it happens that this animosity that it would get the force of gravity theme is there an accent as the so what's the common n. j. suggests a new watching you gonna do what he's a docking no rain battle to balthazar have a talk with him paris nasa says that's not what was how can this i don't think of the velocity is in the wards in communities out from beneath the treasured mean it some of the process kinetic energy density and potential energy and steve the watch of the top of that are all we hope that some of those frequencies it wasn't for the house at this hour to consent to find a relationship that they find that he and if you're coming out fast the effect is it a witch hunt our numbers is coming after the fact that i think spies the arabs and the posture as planes would be the same as just atmospheric pressure to the concurrence of the process that decided the patient now than i do want to come here to the spouse of the top of that our cousin once they get hairy ass of the most to the top of the barrel is against the meeting not in fact we can say that it's the fifties and sixties a word which means the kinetic energy density to the woodshed the top that are all is a very fine they could cross out the density in east tennessee equations this is not changing we're after them asunder creation of any three times equation that should bury for many years he was to decipher this information as it can i think they should do we get a team maintenance equations the definition of acceleration and displacement path into the race and get another creation it relates to displacement unless he can take federation without considering time is exactly the same equations the one we just on my knees and his equation to describe it just it was that can ask mr saito returns parents' house even if it shocked at what hast thou who say hi to the top of the barrel when we split up and out didn't have the same benefits you thought was to come down to the stand that he now how foster was coming out here right now how was what you can see no gotten her perfect mountain time be life threatening find next one's thoughts on about sex clinton ah the incident that it was from the stock and she's straight out just to get his act is highest award to top of it out before forming benefit plan fidel event that that has solidified his abkhazia situation is easy to she had hives and falsely that you have enough cops who is the chief insight into the p. b. s. does he eyes can have his head talents have to pay his finances and faithful sheds light of and ten p. s. that any outside i think that if a car has found in that outfit shall see kenny carr schools g. a. fled the health of these amazing people no pretty amazing that fifteen is phil cafe\n"
          ]
        }
      ],
      "source": [
        "import os\n",
        "import speech_recognition as sr\n",
        "from moviepy.video.io.VideoFileClip import VideoFileClip\n",
        "\n",
        "def extract_audio(video_path, audio_path):\n",
        "    video_clip = VideoFileClip(video_path)\n",
        "    audio_clip = video_clip.audio\n",
        "    audio_clip.write_audiofile(audio_path)\n",
        "    audio_clip.close()\n",
        "\n",
        "def video_to_text(video_path):\n",
        "    # Extract audio from the video\n",
        "    audio_path = \"temp_audio.wav\"\n",
        "    extract_audio(video_path, audio_path)\n",
        "\n",
        "    recognizer = sr.Recognizer()\n",
        "\n",
        "    # Load the extracted audio file\n",
        "    audio_file = sr.AudioFile(audio_path)\n",
        "\n",
        "    with audio_file as source:\n",
        "        # Adjust for ambient noise and record the audio\n",
        "        recognizer.adjust_for_ambient_noise(source)\n",
        "        audio = recognizer.record(source)\n",
        "\n",
        "    try:\n",
        "        # Use PocketSphinx for transcription\n",
        "        text = recognizer.recognize_sphinx(audio)\n",
        "        return text\n",
        "    except sr.UnknownValueError:\n",
        "        print(\"PocketSphinx could not understand audio\")\n",
        "    except sr.RequestError as e:\n",
        "        print(f\"Error with PocketSphinx; {e}\")\n",
        "    finally:\n",
        "        # Clean up temporary audio file\n",
        "        if os.path.exists(audio_path):\n",
        "            os.remove(audio_path)\n",
        "\n",
        "if __name__ == \"__main__\":\n",
        "    video_path = \"/content/FluidMechanics_FluidFlowAndBernoulliLaw_MassContinuity.mp4\"  # Replace with the path to your video file\n",
        "    result = video_to_text(video_path)\n",
        "\n",
        "    if result:\n",
        "        print(\"Transcription:\")\n",
        "        print(result)\n"
      ]
    },
    {
      "cell_type": "code",
      "execution_count": null,
      "metadata": {
        "id": "RzxrZgm7iucn"
      },
      "outputs": [],
      "source": [
        "from docx import Document\n",
        "\n",
        "# The text you want to convert to a doc file\n",
        "doc_text = result\n",
        "\n",
        "# Create a new doc file\n",
        "doc = Document()\n",
        "\n",
        "# Add the text to the doc file\n",
        "doc.add_paragraph(doc_text)\n",
        "\n",
        "# Save the doc file\n",
        "doc.save(\"output.docx\")"
      ]
    }
  ],
  "metadata": {
    "colab": {
      "provenance": []
    },
    "kernelspec": {
      "display_name": "Python 3",
      "name": "python3"
    },
    "language_info": {
      "name": "python"
    }
  },
  "nbformat": 4,
  "nbformat_minor": 0
}